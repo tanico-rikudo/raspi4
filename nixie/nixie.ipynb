{
 "cells": [
  {
   "cell_type": "code",
   "execution_count": 139,
   "metadata": {},
   "outputs": [],
   "source": [
    "# -*- coding: utf-8 -*-\n",
    "\n",
    "import time\n",
    "import RPi.GPIO as GPIO\n",
    "\n",
    "GPIO.setmode(GPIO.BCM)\n",
    "# GPIO.setmode(GPIO.BOARD)"
   ]
  },
  {
   "cell_type": "code",
   "execution_count": 140,
   "metadata": {},
   "outputs": [],
   "source": [
    "from enum import Enum\n",
    "class Pin(Enum):\n",
    "    A=5\n",
    "    B=6\n",
    "    C=13\n",
    "    D=17"
   ]
  },
  {
   "cell_type": "code",
   "execution_count": 141,
   "metadata": {},
   "outputs": [
    {
     "data": {
      "text/plain": [
       "5"
      ]
     },
     "execution_count": 141,
     "metadata": {},
     "output_type": "execute_result"
    }
   ],
   "source": [
    "Pin.A.value"
   ]
  },
  {
   "cell_type": "code",
   "execution_count": 142,
   "metadata": {},
   "outputs": [],
   "source": [
    "\n",
    "GPIO.setup(Pin.A.value, GPIO.OUT)\n",
    "GPIO.setup(Pin.B.value, GPIO.OUT)\n",
    "GPIO.setup(Pin.C.value, GPIO.OUT)\n",
    "GPIO.setup(Pin.D.value, GPIO.OUT)"
   ]
  },
  {
   "cell_type": "code",
   "execution_count": 150,
   "metadata": {},
   "outputs": [],
   "source": [
    "GPIO.output(Pin.A.value, GPIO.LOW)\n",
    "GPIO.output(Pin.B.value, GPIO.LOW)\n",
    "GPIO.output(Pin.C.value, GPIO.LOW)\n",
    "GPIO.output(Pin.D.value, GPIO.LOW)"
   ]
  },
  {
   "cell_type": "code",
   "execution_count": 151,
   "metadata": {},
   "outputs": [],
   "source": [
    "GPIO.output(Pin.A.value, GPIO.HIGH)\n",
    "GPIO.output(Pin.B.value, GPIO.HIGH)\n",
    "GPIO.output(Pin.C.value, GPIO.HIGH)\n",
    "GPIO.output(Pin.D.value, GPIO.LOW)"
   ]
  },
  {
   "cell_type": "code",
   "execution_count": 138,
   "metadata": {},
   "outputs": [],
   "source": [
    "                                                                                                       \n",
    "GPIO.cleanup()"
   ]
  },
  {
   "cell_type": "code",
   "execution_count": 121,
   "metadata": {},
   "outputs": [
    {
     "name": "stdout",
     "output_type": "stream",
     "text": [
      "/bin/sh: 1: /sys/class/gpio: Permission denied\n"
     ]
    }
   ],
   "source": [
    "!/sys/class/gpio"
   ]
  },
  {
   "cell_type": "code",
   "execution_count": 152,
   "metadata": {},
   "outputs": [],
   "source": [
    " GPIO.output(17, GPIO.HIGH)"
   ]
  },
  {
   "cell_type": "code",
   "execution_count": null,
   "metadata": {},
   "outputs": [],
   "source": []
  }
 ],
 "metadata": {
  "kernelspec": {
   "display_name": "Python 3",
   "language": "python",
   "name": "python3"
  },
  "language_info": {
   "codemirror_mode": {
    "name": "ipython",
    "version": 3
   },
   "file_extension": ".py",
   "mimetype": "text/x-python",
   "name": "python",
   "nbconvert_exporter": "python",
   "pygments_lexer": "ipython3",
   "version": "3.6.6"
  }
 },
 "nbformat": 4,
 "nbformat_minor": 2
}
