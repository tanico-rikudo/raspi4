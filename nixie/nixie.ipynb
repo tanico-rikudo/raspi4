{
 "cells": [
  {
   "cell_type": "code",
   "execution_count": 5,
   "metadata": {},
   "outputs": [],
   "source": [
    "# -*- coding: utf-8 -*-\n",
    "\n",
    "import time\n",
    "import RPi.GPIO as GPIO\n",
    "from datetime import datetime as dt\n",
    "from dateutil.relativedelta import relativedelta\n",
    "\n",
    "GPIO.setmode(GPIO.BCM)\n",
    "# GPIO.setmode(GPIO.BOARD)"
   ]
  },
  {
   "cell_type": "code",
   "execution_count": 2,
   "metadata": {},
   "outputs": [],
   "source": [
    "bin_hl={'0': GPIO.LOW, '1':GPIO.HIGH}\n",
    "\n",
    "from enum import Enum\n",
    "class Pin(Enum):\n",
    "    A=4\n",
    "    B=18\n",
    "    C=24\n",
    "    D=19\n",
    "    d1=13\n",
    "    d2=6\n",
    "\n",
    "def gpio_setup():\n",
    "    GPIO.setup(Pin.A.value, GPIO.OUT,initial=GPIO.LOW)\n",
    "    GPIO.setup(Pin.B.value, GPIO.OUT,initial=GPIO.LOW)\n",
    "    GPIO.setup(Pin.C.value, GPIO.OUT,initial=GPIO.LOW)\n",
    "    GPIO.setup(Pin.D.value, GPIO.OUT,initial=GPIO.LOW)\n",
    "    GPIO.setup(Pin.d1.value, GPIO.OUT,initial=GPIO.LOW)\n",
    "    GPIO.setup(Pin.d2.value, GPIO.OUT,initial=GPIO.LOW)\n",
    "    \n",
    "def show_num_on_in14(dec_num, pin):\n",
    "    assert dec_num < 10 , 'num must be <10'    \n",
    "    assert dec_num >= 0 , 'num must be >0'\n",
    "    GPIO.output(Pin.A.value, bin_hl[bin(dec_num>>0)[-1]])\n",
    "    GPIO.output(Pin.B.value, bin_hl[bin(dec_num>>1)[-1]])\n",
    "    GPIO.output(Pin.C.value, bin_hl[bin(dec_num>>2)[-1]])\n",
    "    GPIO.output(Pin.D.value, bin_hl[bin(dec_num>>3)[-1]])\n"
   ]
  },
  {
   "cell_type": "code",
   "execution_count": 3,
   "metadata": {},
   "outputs": [
    {
     "name": "stderr",
     "output_type": "stream",
     "text": [
      "/home/tanico/berryconda3/envs/tanico/lib/python3.6/site-packages/ipykernel_launcher.py:13: RuntimeWarning: This channel is already in use, continuing anyway.  Use GPIO.setwarnings(False) to disable warnings.\n",
      "  del sys.path[0]\n",
      "/home/tanico/berryconda3/envs/tanico/lib/python3.6/site-packages/ipykernel_launcher.py:14: RuntimeWarning: This channel is already in use, continuing anyway.  Use GPIO.setwarnings(False) to disable warnings.\n",
      "  \n",
      "/home/tanico/berryconda3/envs/tanico/lib/python3.6/site-packages/ipykernel_launcher.py:15: RuntimeWarning: This channel is already in use, continuing anyway.  Use GPIO.setwarnings(False) to disable warnings.\n",
      "  from ipykernel import kernelapp as app\n",
      "/home/tanico/berryconda3/envs/tanico/lib/python3.6/site-packages/ipykernel_launcher.py:16: RuntimeWarning: This channel is already in use, continuing anyway.  Use GPIO.setwarnings(False) to disable warnings.\n",
      "  app.launch_new_instance()\n",
      "/home/tanico/berryconda3/envs/tanico/lib/python3.6/site-packages/ipykernel_launcher.py:17: RuntimeWarning: This channel is already in use, continuing anyway.  Use GPIO.setwarnings(False) to disable warnings.\n",
      "/home/tanico/berryconda3/envs/tanico/lib/python3.6/site-packages/ipykernel_launcher.py:18: RuntimeWarning: This channel is already in use, continuing anyway.  Use GPIO.setwarnings(False) to disable warnings.\n"
     ]
    }
   ],
   "source": [
    "gpio_setup()"
   ]
  },
  {
   "cell_type": "code",
   "execution_count": 4,
   "metadata": {},
   "outputs": [],
   "source": [
    "# show_num_on_in14(5, Pin)"
   ]
  },
  {
   "cell_type": "code",
   "execution_count": 6,
   "metadata": {},
   "outputs": [],
   "source": [
    "pin_assign = [\n",
    "    {\"pin\" : Pin.d1,    \"val\" : 1},\n",
    "    { \"pin\" : Pin.d2,    \"val\" : 5}]\n"
   ]
  },
  {
   "cell_type": "code",
   "execution_count": 7,
   "metadata": {},
   "outputs": [],
   "source": [
    "def show_pin_assign(pin_assign, seconds=5, milliseconds=0):\n",
    "    st = dt.now()\n",
    "    expect_ed = st + relativedelta(seconds=seconds, microseconds=milliseconds*1000)\n",
    "    while  expect_ed > dt.now():\n",
    "        for assgin_data in pin_assign:\n",
    "            on(assgin_data[\"pin\"])\n",
    "            show_num_on_in14(assgin_data[\"val\"],Pin)\n",
    "    #         print(assgin_data[\"val\"])\n",
    "            time.sleep(0.01)\n",
    "            off(assgin_data[\"pin\"])\n",
    "            \n",
    "def on(pin):\n",
    "    GPIO.output(pin.value, GPIO.HIGH)\n",
    "#     print('on:',pin.value)\n",
    "def off(pin):\n",
    "    GPIO.output(pin.value, GPIO.LOW)\n",
    "#     print('off:',pin.value)\n",
    "\n",
    "def check_all_decimal_num():\n",
    "    for j in range(100):\n",
    "        for i in range(10):\n",
    "            show_num_on_in14(i, Pin)\n",
    "            time.sleep(1)\n",
    "# check_all_decimal_num()"
   ]
  },
  {
   "cell_type": "code",
   "execution_count": 8,
   "metadata": {},
   "outputs": [],
   "source": [
    "# show_pin_assign(pin_assign, seconds=5, milliseconds=0)"
   ]
  },
  {
   "cell_type": "code",
   "execution_count": null,
   "metadata": {},
   "outputs": [],
   "source": [
    "while True:\n",
    "    sec = str(dt.now().second).zfill(2)\n",
    "    pin_assign = [\n",
    "        {\"pin\" : Pin.d1,    \"val\" : int(sec[1])},\n",
    "        { \"pin\" : Pin.d2,    \"val\" :int(sec[0])}]\n",
    "    show_pin_assign(pin_assign, seconds=0, milliseconds=500)"
   ]
  },
  {
   "cell_type": "code",
   "execution_count": 82,
   "metadata": {},
   "outputs": [
    {
     "ename": "KeyboardInterrupt",
     "evalue": "",
     "output_type": "error",
     "traceback": [
      "\u001b[0;31m---------------------------------------------------------------------------\u001b[0m",
      "\u001b[0;31mKeyboardInterrupt\u001b[0m                         Traceback (most recent call last)",
      "\u001b[0;32m<ipython-input-82-1e41bc4d583c>\u001b[0m in \u001b[0;36m<module>\u001b[0;34m()\u001b[0m\n\u001b[1;32m      2\u001b[0m     \u001b[0;32mfor\u001b[0m \u001b[0mi\u001b[0m \u001b[0;32min\u001b[0m \u001b[0mrange\u001b[0m\u001b[0;34m(\u001b[0m\u001b[0;36m10\u001b[0m\u001b[0;34m)\u001b[0m\u001b[0;34m:\u001b[0m\u001b[0;34m\u001b[0m\u001b[0m\n\u001b[1;32m      3\u001b[0m         \u001b[0mshow_num_on_in14\u001b[0m\u001b[0;34m(\u001b[0m\u001b[0mi\u001b[0m\u001b[0;34m,\u001b[0m \u001b[0mPin\u001b[0m\u001b[0;34m)\u001b[0m\u001b[0;34m\u001b[0m\u001b[0m\n\u001b[0;32m----> 4\u001b[0;31m         \u001b[0mtime\u001b[0m\u001b[0;34m.\u001b[0m\u001b[0msleep\u001b[0m\u001b[0;34m(\u001b[0m\u001b[0;36m1\u001b[0m\u001b[0;34m)\u001b[0m\u001b[0;34m\u001b[0m\u001b[0m\n\u001b[0m",
      "\u001b[0;31mKeyboardInterrupt\u001b[0m: "
     ]
    }
   ],
   "source": []
  },
  {
   "cell_type": "code",
   "execution_count": null,
   "metadata": {},
   "outputs": [],
   "source": []
  },
  {
   "cell_type": "code",
   "execution_count": 10,
   "metadata": {},
   "outputs": [],
   "source": []
  },
  {
   "cell_type": "code",
   "execution_count": null,
   "metadata": {},
   "outputs": [],
   "source": [
    "GPIO.output(Pin.A.value, GPIO.LOW)\n",
    "GPIO.output(Pin.B.value, GPIO.LOW)\n",
    "GPIO.output(Pin.C.value,GPIO.LOW)\n",
    "GPIO.output(Pin.D.value, GPIO.LOW)"
   ]
  },
  {
   "cell_type": "code",
   "execution_count": 67,
   "metadata": {},
   "outputs": [],
   "source": [
    "GPIO.output(Pin.A.value,GPIO.HIGH)\n",
    "GPIO.output(Pin.B.value,GPIO.LOW)\n",
    "GPIO.output(Pin.C.value,GPIO.LOW)\n",
    "GPIO.output(Pin.D.value, GPIO.LOW)"
   ]
  },
  {
   "cell_type": "code",
   "execution_count": 17,
   "metadata": {},
   "outputs": [],
   "source": [
    "GPIO.output(Pin.A.value,GPIO.LOW)\n",
    "GPIO.output(Pin.B.value,GPIO.HIGH)\n",
    "GPIO.output(Pin.C.value,GPIO.LOW)\n",
    "GPIO.output(Pin.D.value, GPIO.LOW)"
   ]
  },
  {
   "cell_type": "code",
   "execution_count": 18,
   "metadata": {},
   "outputs": [],
   "source": [
    "GPIO.output(Pin.A.value,GPIO.HIGH)\n",
    "GPIO.output(Pin.B.value,GPIO.HIGH)\n",
    "GPIO.output(Pin.C.value,GPIO.LOW)\n",
    "GPIO.output(Pin.D.value, GPIO.LOW)"
   ]
  },
  {
   "cell_type": "code",
   "execution_count": 19,
   "metadata": {},
   "outputs": [],
   "source": [
    "GPIO.output(Pin.A.value,GPIO.LOW)\n",
    "GPIO.output(Pin.B.value,GPIO.LOW)\n",
    "GPIO.output(Pin.C.value,GPIO.HIGH)\n",
    "GPIO.output(Pin.D.value, GPIO.LOW)"
   ]
  },
  {
   "cell_type": "code",
   "execution_count": 20,
   "metadata": {},
   "outputs": [],
   "source": [
    "GPIO.output(Pin.A.value,GPIO.HIGH)\n",
    "GPIO.output(Pin.B.value,GPIO.LOW)\n",
    "GPIO.output(Pin.C.value,GPIO.HIGH)\n",
    "GPIO.output(Pin.D.value, GPIO.LOW)"
   ]
  },
  {
   "cell_type": "code",
   "execution_count": 21,
   "metadata": {},
   "outputs": [],
   "source": [
    "GPIO.output(Pin.A.value,GPIO.LOW)\n",
    "GPIO.output(Pin.B.value,GPIO.HIGH)\n",
    "GPIO.output(Pin.C.value,GPIO.HIGH)\n",
    "GPIO.output(Pin.D.value, GPIO.LOW)"
   ]
  },
  {
   "cell_type": "code",
   "execution_count": 22,
   "metadata": {},
   "outputs": [],
   "source": [
    "GPIO.output(Pin.A.value,GPIO.HIGH)\n",
    "GPIO.output(Pin.B.value,GPIO.HIGH)\n",
    "GPIO.output(Pin.C.value,GPIO.HIGH)\n",
    "GPIO.output(Pin.D.value, GPIO.LOW)"
   ]
  },
  {
   "cell_type": "code",
   "execution_count": 23,
   "metadata": {},
   "outputs": [],
   "source": [
    "GPIO.output(Pin.A.value,GPIO.LOW)\n",
    "GPIO.output(Pin.B.value,GPIO.LOW)\n",
    "GPIO.output(Pin.C.value,GPIO.LOW)\n",
    "GPIO.output(Pin.D.value, GPIO.HIGH)"
   ]
  },
  {
   "cell_type": "code",
   "execution_count": 24,
   "metadata": {},
   "outputs": [],
   "source": [
    "GPIO.output(Pin.A.value,GPIO.HIGH)\n",
    "GPIO.output(Pin.B.value,GPIO.LOW)\n",
    "GPIO.output(Pin.C.value,GPIO.LOW)\n",
    "GPIO.output(Pin.D.value, GPIO.HIGH)"
   ]
  },
  {
   "cell_type": "code",
   "execution_count": 32,
   "metadata": {},
   "outputs": [],
   "source": [
    "                                                                                                       \n",
    "GPIO.cleanup()"
   ]
  },
  {
   "cell_type": "code",
   "execution_count": null,
   "metadata": {},
   "outputs": [],
   "source": [
    "for i in range(0,26):\n",
    "    GPIO.setup(i, GPIO.OUT)\n",
    "    GPIO.output(i, GPIO.HIGH)"
   ]
  }
 ],
 "metadata": {
  "kernelspec": {
   "display_name": "Python 3",
   "language": "python",
   "name": "python3"
  },
  "language_info": {
   "codemirror_mode": {
    "name": "ipython",
    "version": 3
   },
   "file_extension": ".py",
   "mimetype": "text/x-python",
   "name": "python",
   "nbconvert_exporter": "python",
   "pygments_lexer": "ipython3",
   "version": "3.6.6"
  }
 },
 "nbformat": 4,
 "nbformat_minor": 2
}
