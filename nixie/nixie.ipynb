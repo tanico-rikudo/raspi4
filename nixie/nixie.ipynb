{
 "cells": [
  {
   "cell_type": "code",
   "execution_count": null,
   "metadata": {},
   "outputs": [],
   "source": [
    "# -*- coding: utf-8 -*-\n",
    "\n",
    "import time\n",
    "import RPi.GPIO as GPIO\n",
    "from datetime import datetime as dt\n",
    "from dateutil.relativedelta import relativedelta\n",
    "\n",
    "GPIO.setmode(GPIO.BCM)\n",
    "# GPIO.setmode(GPIO.BOARD)"
   ]
  },
  {
   "cell_type": "code",
   "execution_count": null,
   "metadata": {},
   "outputs": [],
   "source": [
    "bin_hl={'0': GPIO.LOW, '1':GPIO.HIGH}\n",
    "\n",
    "from enum import Enum\n",
    "class Pin(Enum):\n",
    "    A=4\n",
    "    B=18\n",
    "    C=24\n",
    "    D=19\n",
    "    d1=13\n",
    "    d2=6\n",
    "\n",
    "def gpio_setup():\n",
    "    GPIO.setup(Pin.A.value, GPIO.OUT,initial=GPIO.LOW)\n",
    "    GPIO.setup(Pin.B.value, GPIO.OUT,initial=GPIO.LOW)\n",
    "    GPIO.setup(Pin.C.value, GPIO.OUT,initial=GPIO.LOW)\n",
    "    GPIO.setup(Pin.D.value, GPIO.OUT,initial=GPIO.LOW)\n",
    "    GPIO.setup(Pin.d1.value, GPIO.OUT,initial=GPIO.LOW)\n",
    "    GPIO.setup(Pin.d2.value, GPIO.OUT,initial=GPIO.LOW)\n",
    "    \n",
    "def show_num_on_in14(dec_num, pin):\n",
    "    assert dec_num < 10 , 'num must be <10'    \n",
    "    assert dec_num >= 0 , 'num must be >0'\n",
    "    GPIO.output(Pin.A.value, bin_hl[bin(~dec_num>>0)[-1]])\n",
    "    GPIO.output(Pin.B.value, bin_hl[bin(~dec_num>>1)[-1]])\n",
    "    GPIO.output(Pin.C.value, bin_hl[bin(~dec_num>>2)[-1]])\n",
    "    GPIO.output(Pin.D.value, bin_hl[bin(~dec_num>>3)[-1]])\n",
    "    \n",
    "def on(pin):\n",
    "    GPIO.output(pin.value, GPIO.HIGH)\n",
    "\n",
    "def off(pin):\n",
    "    GPIO.output(pin.value, GPIO.LOW)\n",
    "\n",
    "\n",
    "def show_pins(pin_assign, seconds=5, milliseconds=0):\n",
    "    st = dt.now()\n",
    "    expect_ed = st + relativedelta(seconds=seconds, microseconds=milliseconds*1000)\n",
    "    while  expect_ed > dt.now():\n",
    "        for assgin_data in pin_assign:\n",
    "            on(assgin_data[\"pin\"])\n",
    "            show_num_on_in14(assgin_data[\"val\"],Pin)\n",
    "            time.sleep(0.008)\n",
    "            off(assgin_data[\"pin\"])\n",
    "            time.sleep(0.002)\n",
    "            \n",
    "def check_all_decimal_num(Pin):\n",
    "    for j in range(10000):\n",
    "        for i in range(10):\n",
    "            show_num_on_in14(i, Pin)\n",
    "            time.sleep(0.1)\n",
    "            \n",
    "def clock():\n",
    "    while True:\n",
    "        sec = str(dt.now().second).zfill(2)\n",
    "        pin_assign = [\n",
    "            {\"pin\" : Pin.d1,    \"val\" : int(sec[1])},\n",
    "            { \"pin\" : Pin.d2,    \"val\" :int(sec[0])}]\n",
    "        show_pins(pin_assign, seconds=0, milliseconds=500)\n"
   ]
  },
  {
   "cell_type": "code",
   "execution_count": null,
   "metadata": {},
   "outputs": [],
   "source": [
    "gpio_setup()"
   ]
  },
  {
   "cell_type": "code",
   "execution_count": null,
   "metadata": {},
   "outputs": [],
   "source": [
    "on(Pin.d1)\n",
    "on(Pin.d2)"
   ]
  },
  {
   "cell_type": "code",
   "execution_count": null,
   "metadata": {},
   "outputs": [],
   "source": [
    "show_num_on_in14(2, Pin)"
   ]
  },
  {
   "cell_type": "code",
   "execution_count": null,
   "metadata": {},
   "outputs": [],
   "source": [
    "pin_assign = [\n",
    "    {\"pin\" : Pin.d1,    \"val\" : 1},\n",
    "    { \"pin\" : Pin.d2,    \"val\" : 5}]\n"
   ]
  },
  {
   "cell_type": "code",
   "execution_count": null,
   "metadata": {},
   "outputs": [],
   "source": [
    "check_all_decimal_num(Pin)"
   ]
  },
  {
   "cell_type": "code",
   "execution_count": null,
   "metadata": {},
   "outputs": [],
   "source": [
    "show_pins(pin_assign, seconds=5, milliseconds=0)"
   ]
  },
  {
   "cell_type": "markdown",
   "metadata": {},
   "source": [
    "### #1 ~ #9 (NO transistor)"
   ]
  },
  {
   "cell_type": "code",
   "execution_count": null,
   "metadata": {},
   "outputs": [],
   "source": [
    "GPIO.output(Pin.A.value, GPIO.LOW)\n",
    "GPIO.output(Pin.B.value, GPIO.LOW)\n",
    "GPIO.output(Pin.C.value,GPIO.LOW)\n",
    "GPIO.output(Pin.D.value, GPIO.LOW)"
   ]
  },
  {
   "cell_type": "code",
   "execution_count": null,
   "metadata": {},
   "outputs": [],
   "source": [
    "GPIO.output(Pin.A.value,GPIO.HIGH)\n",
    "GPIO.output(Pin.B.value,GPIO.LOW)\n",
    "GPIO.output(Pin.C.value,GPIO.LOW)\n",
    "GPIO.output(Pin.D.value, GPIO.LOW)"
   ]
  },
  {
   "cell_type": "code",
   "execution_count": null,
   "metadata": {},
   "outputs": [],
   "source": [
    "GPIO.output(Pin.A.value,GPIO.LOW)\n",
    "GPIO.output(Pin.B.value,GPIO.HIGH)\n",
    "GPIO.output(Pin.C.value,GPIO.LOW)\n",
    "GPIO.output(Pin.D.value, GPIO.LOW)"
   ]
  },
  {
   "cell_type": "code",
   "execution_count": null,
   "metadata": {},
   "outputs": [],
   "source": [
    "GPIO.output(Pin.A.value,GPIO.HIGH)\n",
    "GPIO.output(Pin.B.value,GPIO.HIGH)\n",
    "GPIO.output(Pin.C.value,GPIO.LOW)\n",
    "GPIO.output(Pin.D.value, GPIO.LOW)"
   ]
  },
  {
   "cell_type": "code",
   "execution_count": null,
   "metadata": {},
   "outputs": [],
   "source": [
    "GPIO.output(Pin.A.value,GPIO.LOW)\n",
    "GPIO.output(Pin.B.value,GPIO.LOW)\n",
    "GPIO.output(Pin.C.value,GPIO.HIGH)\n",
    "GPIO.output(Pin.D.value, GPIO.LOW)"
   ]
  },
  {
   "cell_type": "code",
   "execution_count": null,
   "metadata": {},
   "outputs": [],
   "source": [
    "GPIO.output(Pin.A.value,GPIO.HIGH)\n",
    "GPIO.output(Pin.B.value,GPIO.LOW)\n",
    "GPIO.output(Pin.C.value,GPIO.HIGH)\n",
    "GPIO.output(Pin.D.value, GPIO.LOW)"
   ]
  },
  {
   "cell_type": "code",
   "execution_count": null,
   "metadata": {},
   "outputs": [],
   "source": [
    "GPIO.output(Pin.A.value,GPIO.LOW)\n",
    "GPIO.output(Pin.B.value,GPIO.HIGH)\n",
    "GPIO.output(Pin.C.value,GPIO.HIGH)\n",
    "GPIO.output(Pin.D.value, GPIO.LOW)"
   ]
  },
  {
   "cell_type": "code",
   "execution_count": null,
   "metadata": {},
   "outputs": [],
   "source": [
    "GPIO.output(Pin.A.value,GPIO.HIGH)\n",
    "GPIO.output(Pin.B.value,GPIO.HIGH)\n",
    "GPIO.output(Pin.C.value,GPIO.HIGH)\n",
    "GPIO.output(Pin.D.value, GPIO.LOW)"
   ]
  },
  {
   "cell_type": "code",
   "execution_count": null,
   "metadata": {},
   "outputs": [],
   "source": [
    "GPIO.output(Pin.A.value,GPIO.LOW)\n",
    "GPIO.output(Pin.B.value,GPIO.LOW)\n",
    "GPIO.output(Pin.C.value,GPIO.LOW)\n",
    "GPIO.output(Pin.D.value, GPIO.HIGH)"
   ]
  },
  {
   "cell_type": "code",
   "execution_count": null,
   "metadata": {},
   "outputs": [],
   "source": [
    "GPIO.output(Pin.A.value,GPIO.HIGH)\n",
    "GPIO.output(Pin.B.value,GPIO.LOW)\n",
    "GPIO.output(Pin.C.value,GPIO.LOW)\n",
    "GPIO.output(Pin.D.value, GPIO.HIGH)"
   ]
  },
  {
   "cell_type": "code",
   "execution_count": null,
   "metadata": {},
   "outputs": [],
   "source": [
    "GPIO.output(Pin.A.value,GPIO.HIGH)\n",
    "GPIO.output(Pin.B.value,GPIO.HIGH)\n",
    "GPIO.output(Pin.C.value,GPIO.HIGH)\n",
    "GPIO.output(Pin.D.value, GPIO.HIGH)"
   ]
  },
  {
   "cell_type": "code",
   "execution_count": null,
   "metadata": {},
   "outputs": [],
   "source": [
    "                                                                                                       \n",
    "GPIO.cleanup()"
   ]
  },
  {
   "cell_type": "code",
   "execution_count": null,
   "metadata": {},
   "outputs": [],
   "source": []
  }
 ],
 "metadata": {
  "kernelspec": {
   "display_name": "Python 3",
   "language": "python",
   "name": "python3"
  },
  "language_info": {
   "codemirror_mode": {
    "name": "ipython",
    "version": 3
   },
   "file_extension": ".py",
   "mimetype": "text/x-python",
   "name": "python",
   "nbconvert_exporter": "python",
   "pygments_lexer": "ipython3",
   "version": "3.6.6"
  }
 },
 "nbformat": 4,
 "nbformat_minor": 2
}
