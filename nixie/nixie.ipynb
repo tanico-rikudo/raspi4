{
 "cells": [
  {
   "cell_type": "code",
   "execution_count": 9,
   "metadata": {},
   "outputs": [],
   "source": [
    "# -*- coding: utf-8 -*-\n",
    "\n",
    "import time\n",
    "import RPi.GPIO as GPIO\n",
    "\n",
    "GPIO.setmode(GPIO.BCM)\n",
    "# GPIO.setmode(GPIO.BOARD)"
   ]
  },
  {
   "cell_type": "code",
   "execution_count": 10,
   "metadata": {},
   "outputs": [],
   "source": [
    "bin_hl={'0': GPIO.LOW, '1':GPIO.HIGH}\n",
    "\n",
    "from enum import Enum\n",
    "class Pin(Enum):\n",
    "    A=4\n",
    "    B=18\n",
    "    C=24\n",
    "    D=19\n",
    "# 13\n",
    "# 6\n",
    "\n",
    "def gpio_setup():\n",
    "    GPIO.setup(Pin.A.value, GPIO.OUT,initial=GPIO.LOW)\n",
    "    GPIO.setup(Pin.B.value, GPIO.OUT,initial=GPIO.LOW)\n",
    "    GPIO.setup(Pin.C.value, GPIO.OUT,initial=GPIO.LOW)\n",
    "    GPIO.setup(Pin.D.value, GPIO.OUT,initial=GPIO.LOW)\n",
    "    \n",
    "def get_bin_num(dec_num):\n",
    "    assert dec_num < 10 , 'num must be <10'    \n",
    "    assert dec_num >= 0 , 'num must be >0'\n",
    "    bin_num=bin(dec_num)\n",
    "    bin_num = bin_num.split('b')[1]\n",
    "    return bin_num.zfill(4)\n",
    "\n",
    "def show_num_on_in14(bin_num, pin):\n",
    "    GPIO.output(Pin.A.value, bin_hl[bin_num[3]])\n",
    "    GPIO.output(Pin.B.value, bin_hl[bin_num[2]])\n",
    "    GPIO.output(Pin.C.value, bin_hl[bin_num[1]])\n",
    "    GPIO.output(Pin.D.value, bin_hl[bin_num[0]])\n"
   ]
  },
  {
   "cell_type": "code",
   "execution_count": 3,
   "metadata": {},
   "outputs": [
    {
     "name": "stderr",
     "output_type": "stream",
     "text": [
      "/home/tanico/berryconda3/envs/tanico/lib/python3.6/site-packages/ipykernel_launcher.py:13: RuntimeWarning: This channel is already in use, continuing anyway.  Use GPIO.setwarnings(False) to disable warnings.\n",
      "  del sys.path[0]\n"
     ]
    }
   ],
   "source": []
  },
  {
   "cell_type": "code",
   "execution_count": 11,
   "metadata": {},
   "outputs": [],
   "source": [
    "k1551id_input=get_bin_num(9)\n",
    "show_num_on_in14(k1551id_input, Pin)"
   ]
  },
  {
   "cell_type": "code",
   "execution_count": 26,
   "metadata": {},
   "outputs": [],
   "source": [
    "for j in range(100):\n",
    "    for i in range(10):\n",
    "        k1551id_input=get_bin_num(i)\n",
    "        show_num_on_in14(k1551id_input, Pin)\n",
    "        time.sleep(0.05)"
   ]
  },
  {
   "cell_type": "code",
   "execution_count": 4,
   "metadata": {},
   "outputs": [
    {
     "ename": "RuntimeError",
     "evalue": "The GPIO channel has not been set up as an OUTPUT",
     "output_type": "error",
     "traceback": [
      "\u001b[0;31m---------------------------------------------------------------------------\u001b[0m",
      "\u001b[0;31mRuntimeError\u001b[0m                              Traceback (most recent call last)",
      "\u001b[0;32m<ipython-input-4-0b38c46ccb0e>\u001b[0m in \u001b[0;36m<module>\u001b[0;34m()\u001b[0m\n\u001b[0;32m----> 1\u001b[0;31m \u001b[0mGPIO\u001b[0m\u001b[0;34m.\u001b[0m\u001b[0moutput\u001b[0m\u001b[0;34m(\u001b[0m\u001b[0mPin\u001b[0m\u001b[0;34m.\u001b[0m\u001b[0mA\u001b[0m\u001b[0;34m.\u001b[0m\u001b[0mvalue\u001b[0m\u001b[0;34m,\u001b[0m \u001b[0mGPIO\u001b[0m\u001b[0;34m.\u001b[0m\u001b[0mLOW\u001b[0m\u001b[0;34m)\u001b[0m\u001b[0;34m\u001b[0m\u001b[0m\n\u001b[0m\u001b[1;32m      2\u001b[0m \u001b[0mGPIO\u001b[0m\u001b[0;34m.\u001b[0m\u001b[0moutput\u001b[0m\u001b[0;34m(\u001b[0m\u001b[0mPin\u001b[0m\u001b[0;34m.\u001b[0m\u001b[0mB\u001b[0m\u001b[0;34m.\u001b[0m\u001b[0mvalue\u001b[0m\u001b[0;34m,\u001b[0m \u001b[0mGPIO\u001b[0m\u001b[0;34m.\u001b[0m\u001b[0mLOW\u001b[0m\u001b[0;34m)\u001b[0m\u001b[0;34m\u001b[0m\u001b[0m\n\u001b[1;32m      3\u001b[0m \u001b[0mGPIO\u001b[0m\u001b[0;34m.\u001b[0m\u001b[0moutput\u001b[0m\u001b[0;34m(\u001b[0m\u001b[0mPin\u001b[0m\u001b[0;34m.\u001b[0m\u001b[0mC\u001b[0m\u001b[0;34m.\u001b[0m\u001b[0mvalue\u001b[0m\u001b[0;34m,\u001b[0m\u001b[0mGPIO\u001b[0m\u001b[0;34m.\u001b[0m\u001b[0mLOW\u001b[0m\u001b[0;34m)\u001b[0m\u001b[0;34m\u001b[0m\u001b[0m\n\u001b[1;32m      4\u001b[0m \u001b[0mGPIO\u001b[0m\u001b[0;34m.\u001b[0m\u001b[0moutput\u001b[0m\u001b[0;34m(\u001b[0m\u001b[0mPin\u001b[0m\u001b[0;34m.\u001b[0m\u001b[0mD\u001b[0m\u001b[0;34m.\u001b[0m\u001b[0mvalue\u001b[0m\u001b[0;34m,\u001b[0m \u001b[0mGPIO\u001b[0m\u001b[0;34m.\u001b[0m\u001b[0mLOW\u001b[0m\u001b[0;34m)\u001b[0m\u001b[0;34m\u001b[0m\u001b[0m\n",
      "\u001b[0;31mRuntimeError\u001b[0m: The GPIO channel has not been set up as an OUTPUT"
     ]
    }
   ],
   "source": [
    "GPIO.output(Pin.A.value, GPIO.LOW)\n",
    "GPIO.output(Pin.B.value, GPIO.LOW)\n",
    "GPIO.output(Pin.C.value,GPIO.LOW)\n",
    "GPIO.output(Pin.D.value, GPIO.LOW)"
   ]
  },
  {
   "cell_type": "code",
   "execution_count": 16,
   "metadata": {},
   "outputs": [],
   "source": [
    "GPIO.output(Pin.A.value,GPIO.HIGH)\n",
    "GPIO.output(Pin.B.value,GPIO.LOW)\n",
    "GPIO.output(Pin.C.value,GPIO.LOW)\n",
    "GPIO.output(Pin.D.value, GPIO.LOW)"
   ]
  },
  {
   "cell_type": "code",
   "execution_count": 17,
   "metadata": {},
   "outputs": [],
   "source": [
    "GPIO.output(Pin.A.value,GPIO.LOW)\n",
    "GPIO.output(Pin.B.value,GPIO.HIGH)\n",
    "GPIO.output(Pin.C.value,GPIO.LOW)\n",
    "GPIO.output(Pin.D.value, GPIO.LOW)"
   ]
  },
  {
   "cell_type": "code",
   "execution_count": 18,
   "metadata": {},
   "outputs": [],
   "source": [
    "GPIO.output(Pin.A.value,GPIO.HIGH)\n",
    "GPIO.output(Pin.B.value,GPIO.HIGH)\n",
    "GPIO.output(Pin.C.value,GPIO.LOW)\n",
    "GPIO.output(Pin.D.value, GPIO.LOW)"
   ]
  },
  {
   "cell_type": "code",
   "execution_count": 19,
   "metadata": {},
   "outputs": [],
   "source": [
    "GPIO.output(Pin.A.value,GPIO.LOW)\n",
    "GPIO.output(Pin.B.value,GPIO.LOW)\n",
    "GPIO.output(Pin.C.value,GPIO.HIGH)\n",
    "GPIO.output(Pin.D.value, GPIO.LOW)"
   ]
  },
  {
   "cell_type": "code",
   "execution_count": 20,
   "metadata": {},
   "outputs": [],
   "source": [
    "GPIO.output(Pin.A.value,GPIO.HIGH)\n",
    "GPIO.output(Pin.B.value,GPIO.LOW)\n",
    "GPIO.output(Pin.C.value,GPIO.HIGH)\n",
    "GPIO.output(Pin.D.value, GPIO.LOW)"
   ]
  },
  {
   "cell_type": "code",
   "execution_count": 21,
   "metadata": {},
   "outputs": [],
   "source": [
    "GPIO.output(Pin.A.value,GPIO.LOW)\n",
    "GPIO.output(Pin.B.value,GPIO.HIGH)\n",
    "GPIO.output(Pin.C.value,GPIO.HIGH)\n",
    "GPIO.output(Pin.D.value, GPIO.LOW)"
   ]
  },
  {
   "cell_type": "code",
   "execution_count": 22,
   "metadata": {},
   "outputs": [],
   "source": [
    "GPIO.output(Pin.A.value,GPIO.HIGH)\n",
    "GPIO.output(Pin.B.value,GPIO.HIGH)\n",
    "GPIO.output(Pin.C.value,GPIO.HIGH)\n",
    "GPIO.output(Pin.D.value, GPIO.LOW)"
   ]
  },
  {
   "cell_type": "code",
   "execution_count": 23,
   "metadata": {},
   "outputs": [],
   "source": [
    "GPIO.output(Pin.A.value,GPIO.LOW)\n",
    "GPIO.output(Pin.B.value,GPIO.LOW)\n",
    "GPIO.output(Pin.C.value,GPIO.LOW)\n",
    "GPIO.output(Pin.D.value, GPIO.HIGH)"
   ]
  },
  {
   "cell_type": "code",
   "execution_count": 24,
   "metadata": {},
   "outputs": [],
   "source": [
    "GPIO.output(Pin.A.value,GPIO.HIGH)\n",
    "GPIO.output(Pin.B.value,GPIO.LOW)\n",
    "GPIO.output(Pin.C.value,GPIO.LOW)\n",
    "GPIO.output(Pin.D.value, GPIO.HIGH)"
   ]
  },
  {
   "cell_type": "code",
   "execution_count": 28,
   "metadata": {},
   "outputs": [
    {
     "name": "stderr",
     "output_type": "stream",
     "text": [
      "/home/tanico/berryconda3/envs/tanico/lib/python3.6/site-packages/ipykernel_launcher.py:2: RuntimeWarning: No channels have been set up yet - nothing to clean up!  Try cleaning up at the end of your program instead!\n",
      "  \n"
     ]
    }
   ],
   "source": [
    "                                                                                                       \n",
    "GPIO.cleanup()"
   ]
  },
  {
   "cell_type": "code",
   "execution_count": 121,
   "metadata": {},
   "outputs": [
    {
     "name": "stdout",
     "output_type": "stream",
     "text": [
      "/bin/sh: 1: /sys/class/gpio: Permission denied\n"
     ]
    }
   ],
   "source": [
    "!/sys/class/gpio"
   ]
  },
  {
   "cell_type": "code",
   "execution_count": 167,
   "metadata": {},
   "outputs": [],
   "source": [
    "GPIO.output(Pin.C.value,True)"
   ]
  },
  {
   "cell_type": "code",
   "execution_count": null,
   "metadata": {},
   "outputs": [],
   "source": [
    "for i in range(0,26):\n",
    "    GPIO.setup(i, GPIO.OUT)\n",
    "    GPIO.output(i, GPIO.HIGH)\n"
   ]
  },
  {
   "cell_type": "code",
   "execution_count": 8,
   "metadata": {},
   "outputs": [],
   "source": [
    "GPIO.cleanup()"
   ]
  },
  {
   "cell_type": "code",
   "execution_count": 7,
   "metadata": {},
   "outputs": [],
   "source": [
    "GPIO.setup(, GPIO.OUT)"
   ]
  },
  {
   "cell_type": "code",
   "execution_count": 175,
   "metadata": {},
   "outputs": [],
   "source": [
    "GPIO.output(26, GPIO.HIGH)"
   ]
  },
  {
   "cell_type": "code",
   "execution_count": null,
   "metadata": {},
   "outputs": [],
   "source": [
    "echo 17 > /sys/class/gpio/export  "
   ]
  },
  {
   "cell_type": "code",
   "execution_count": 84,
   "metadata": {},
   "outputs": [
    {
     "ename": "AttributeError",
     "evalue": "module 'RPi.GPIO' has no attribute '__PATH__'",
     "output_type": "error",
     "traceback": [
      "\u001b[0;31m---------------------------------------------------------------------------\u001b[0m",
      "\u001b[0;31mAttributeError\u001b[0m                            Traceback (most recent call last)",
      "\u001b[0;32m<ipython-input-84-2cbfd41c75c0>\u001b[0m in \u001b[0;36m<module>\u001b[0;34m()\u001b[0m\n\u001b[0;32m----> 1\u001b[0;31m \u001b[0mGPIO\u001b[0m\u001b[0;34m.\u001b[0m\u001b[0m__PATH__\u001b[0m\u001b[0;34m\u001b[0m\u001b[0m\n\u001b[0m",
      "\u001b[0;31mAttributeError\u001b[0m: module 'RPi.GPIO' has no attribute '__PATH__'"
     ]
    }
   ],
   "source": [
    "GPIO.__PATH__"
   ]
  },
  {
   "cell_type": "code",
   "execution_count": 6,
   "metadata": {},
   "outputs": [],
   "source": [
    "GPIO.setup(13, GPIO.OUT,initial=GPIO.LOW)\n",
    "GPIO.output(13, GPIO.HIGH)"
   ]
  },
  {
   "cell_type": "code",
   "execution_count": 7,
   "metadata": {},
   "outputs": [],
   "source": [
    "GPIO.output(13, GPIO.LOW)"
   ]
  },
  {
   "cell_type": "code",
   "execution_count": 11,
   "metadata": {},
   "outputs": [],
   "source": [
    "GPIO.setup(6, GPIO.OUT,initial=GPIO.LOW)"
   ]
  },
  {
   "cell_type": "code",
   "execution_count": 12,
   "metadata": {},
   "outputs": [],
   "source": [
    "GPIO.output(6, GPIO.HIGH)"
   ]
  },
  {
   "cell_type": "code",
   "execution_count": 13,
   "metadata": {},
   "outputs": [],
   "source": [
    "GPIO.output(6, GPIO.LOW)"
   ]
  },
  {
   "cell_type": "code",
   "execution_count": null,
   "metadata": {},
   "outputs": [],
   "source": []
  }
 ],
 "metadata": {
  "kernelspec": {
   "display_name": "Python 3",
   "language": "python",
   "name": "python3"
  },
  "language_info": {
   "codemirror_mode": {
    "name": "ipython",
    "version": 3
   },
   "file_extension": ".py",
   "mimetype": "text/x-python",
   "name": "python",
   "nbconvert_exporter": "python",
   "pygments_lexer": "ipython3",
   "version": "3.6.6"
  }
 },
 "nbformat": 4,
 "nbformat_minor": 2
}
