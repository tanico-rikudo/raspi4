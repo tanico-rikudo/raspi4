{
 "cells": [
  {
   "cell_type": "code",
   "execution_count": 18,
   "metadata": {},
   "outputs": [
    {
     "ename": "KeyboardInterrupt",
     "evalue": "",
     "output_type": "error",
     "traceback": [
      "\u001b[0;31m---------------------------------------------------------------------------\u001b[0m",
      "\u001b[0;31mKeyboardInterrupt\u001b[0m                         Traceback (most recent call last)",
      "\u001b[0;32m<ipython-input-18-db48bc6d3aa5>\u001b[0m in \u001b[0;36m<module>\u001b[0;34m\u001b[0m\n\u001b[1;32m     13\u001b[0m     \u001b[0;31m# Display the resulting frame\u001b[0m\u001b[0;34m\u001b[0m\u001b[0;34m\u001b[0m\u001b[0;34m\u001b[0m\u001b[0m\n\u001b[1;32m     14\u001b[0m     \u001b[0mcv2\u001b[0m\u001b[0;34m.\u001b[0m\u001b[0mimshow\u001b[0m\u001b[0;34m(\u001b[0m\u001b[0;34m'frame'\u001b[0m\u001b[0;34m,\u001b[0m\u001b[0mgray\u001b[0m\u001b[0;34m)\u001b[0m\u001b[0;34m\u001b[0m\u001b[0;34m\u001b[0m\u001b[0m\n\u001b[0;32m---> 15\u001b[0;31m     \u001b[0;32mif\u001b[0m \u001b[0mcv2\u001b[0m\u001b[0;34m.\u001b[0m\u001b[0mwaitKey\u001b[0m\u001b[0;34m(\u001b[0m\u001b[0;36m1\u001b[0m\u001b[0;34m)\u001b[0m \u001b[0;34m&\u001b[0m \u001b[0;36m0xFF\u001b[0m \u001b[0;34m==\u001b[0m \u001b[0mord\u001b[0m\u001b[0;34m(\u001b[0m\u001b[0;34m'q'\u001b[0m\u001b[0;34m)\u001b[0m\u001b[0;34m:\u001b[0m\u001b[0;34m\u001b[0m\u001b[0;34m\u001b[0m\u001b[0m\n\u001b[0m\u001b[1;32m     16\u001b[0m         \u001b[0;32mbreak\u001b[0m\u001b[0;34m\u001b[0m\u001b[0;34m\u001b[0m\u001b[0m\n\u001b[1;32m     17\u001b[0m \u001b[0;34m\u001b[0m\u001b[0m\n",
      "\u001b[0;31mKeyboardInterrupt\u001b[0m: "
     ]
    }
   ],
   "source": [
    "import numpy as np\n",
    "import cv2\n",
    "\n",
    "cap = cv2.VideoCapture(0)\n",
    "\n",
    "while(True):\n",
    "    # Capture frame-by-frame\n",
    "    ret, frame = cap.read()\n",
    "\n",
    "    # Our operations on the frame come here\n",
    "    gray = cv2.cvtColor(frame, cv2.COLOR_BGR2GRAY)\n",
    "\n",
    "    # Display the resulting frame\n",
    "    cv2.imshow('frame',gray)\n",
    "    if cv2.waitKey(1) & 0xFF == ord('q'):\n",
    "        break\n",
    "\n",
    "# When everything done, release the capture\n",
    "cap.release()\n",
    "cv2.destroyAllWindows()"
   ]
  },
  {
   "cell_type": "code",
   "execution_count": 2,
   "metadata": {},
   "outputs": [],
   "source": [
    "import numpy as np\n",
    "import cv2\n",
    "\n",
    "cap = cv2.VideoCapture(0)"
   ]
  },
  {
   "cell_type": "code",
   "execution_count": 3,
   "metadata": {},
   "outputs": [],
   "source": [
    "ret, frame = cap.read()"
   ]
  },
  {
   "cell_type": "code",
   "execution_count": 4,
   "metadata": {},
   "outputs": [],
   "source": [
    "img_bgr = cv2.resize(frame, (300, 300))"
   ]
  },
  {
   "cell_type": "code",
   "execution_count": 8,
   "metadata": {},
   "outputs": [
    {
     "name": "stdout",
     "output_type": "stream",
     "text": [
      "/bin/sh: https://github.com/tensorflow/examples/blob/master/lite/examples/object_detection/raspberry_pi/download.sh: No such file or directory\n"
     ]
    }
   ],
   "source": [
    "# tflite obj\n",
    "!https://github.com/tensorflow/examples/blob/master/lite/examples/object_detection/raspberry_pi/download.sh"
   ]
  },
  {
   "cell_type": "code",
   "execution_count": 6,
   "metadata": {},
   "outputs": [],
   "source": [
    "# python3\n",
    "#\n",
    "# Copyright 2019 The TensorFlow Authors. All Rights Reserved.\n",
    "#\n",
    "# Licensed under the Apache License, Version 2.0 (the \"License\");\n",
    "# you may not use this file except in compliance with the License.\n",
    "# You may obtain a copy of the License at\n",
    "#\n",
    "#     https://www.apache.org/licenses/LICENSE-2.0\n",
    "#\n",
    "# Unless required by applicable law or agreed to in writing, software\n",
    "# distributed under the License is distributed on an \"AS IS\" BASIS,\n",
    "# WITHOUT WARRANTIES OR CONDITIONS OF ANY KIND, either express or implied.\n",
    "# See the License for the specific language governing permissions and\n",
    "# limitations under the License.\n",
    "\"\"\"Example using TF Lite to detect objects with the Raspberry Pi camera.\"\"\"\n",
    "\n",
    "# model\n",
    "# https://www.tensorflow.org/lite/examples/object_detection/overview\n",
    "\n",
    "# detect camera\n",
    "# https://github.com/tensorflow/examples/blob/master/lite/examples/object_detection/raspberry_pi/detect_picamera.py\n",
    "\n",
    "#open cv\n",
    "# http://labs.eecs.tottori-u.ac.jp/sd/Member/oyamada/OpenCV/html/py_tutorials/py_gui/py_video_display/py_video_display.html\n",
    "\n",
    "# ref\n",
    "# https://qiita.com/kakinaguru_zo/items/c875ca7452c30a22289d#tensorflow-lite%E3%81%AE%E3%82%B5%E3%83%B3%E3%83%97%E3%83%AB%E3%81%AE%E6%94%B9%E9%80%A0%E7%89%88\n",
    "\n",
    "#Quick start\n",
    "# https://www.tensorflow.org/lite/guide/python?hl=ja\n",
    "\n",
    "from __future__ import absolute_import\n",
    "from __future__ import division\n",
    "from __future__ import print_function\n",
    "\n",
    "import argparse\n",
    "import io\n",
    "import re\n",
    "import time\n",
    "\n",
    "from annotation import Annotator\n",
    "\n",
    "import numpy as np\n",
    "# import picamera #for raspi\n",
    "\n",
    "from PIL import Image\n",
    "from tflite_runtime.interpreter import Interpreter\n",
    "\n",
    "CAMERA_WIDTH = 640\n",
    "CAMERA_HEIGHT = 480\n",
    "\n",
    "\n",
    "def load_labels(path):\n",
    "    \"\"\"\n",
    "    Loads the labels file. Supports files with or without index numbers.\n",
    "    \"\"\"\n",
    "    with open(path, 'r', encoding='utf-8') as f:\n",
    "        lines = f.readlines()\n",
    "        labels = {}\n",
    "        for row_number, content in enumerate(lines):\n",
    "            pair = re.split(r'[:\\s]+', content.strip(), maxsplit=1)\n",
    "            if len(pair) == 2 and pair[0].strip().isdigit():\n",
    "                labels[int(pair[0])] = pair[1].strip()\n",
    "            else:\n",
    "                labels[row_number] = pair[0].strip()\n",
    "    return labels\n",
    "\n",
    "\n",
    "def set_input_tensor(interpreter, image):\n",
    "    \"\"\"　\n",
    "    Sets the input tensor.\n",
    "    \"\"\"\n",
    "    tensor_index = interpreter.get_input_details()[0]['index']\n",
    "    input_tensor = interpreter.tensor(tensor_index)()[0]\n",
    "    input_tensor[:, :] = image\n",
    "\n",
    "def get_output_tensor(interpreter, index):\n",
    "    \"\"\"\n",
    "    Returns the output tensor at the given index.\n",
    "    \"\"\"\n",
    "    output_details = interpreter.get_output_details()[index]\n",
    "    tensor = np.squeeze(interpreter.get_tensor(output_details['index']))\n",
    "    return tensor\n",
    "\n",
    "\n",
    "def detect_objects(interpreter, image, threshold):\n",
    "    \"\"\"\n",
    "    Returns a list of detection results, each a dictionary of object info.\n",
    "    \"\"\"\n",
    "    set_input_tensor(interpreter, image)\n",
    "    interpreter.invoke()\n",
    "\n",
    "    # Get all output details\n",
    "    boxes = get_output_tensor(interpreter, 0)\n",
    "    classes = get_output_tensor(interpreter, 1)\n",
    "    scores = get_output_tensor(interpreter, 2)\n",
    "    count = int(get_output_tensor(interpreter, 3))\n",
    "\n",
    "    results = []\n",
    "    for i in range(count):\n",
    "        if scores[i] >= threshold:\n",
    "            result = {\n",
    "              'bounding_box': boxes[i],\n",
    "              'class_id': classes[i],\n",
    "              'score': scores[i]\n",
    "            }\n",
    "            results.append(result)\n",
    "    return results\n",
    "\n",
    "\n",
    "def annotate_objects(annotator, results, labels):\n",
    "    \"\"\"\n",
    "    Draws the bounding box and label for each object in the results.\n",
    "    \"\"\"\n",
    "    for obj in results:\n",
    "        # Convert the bounding box figures from relative coordinates\n",
    "        # to absolute coordinates based on the original resolution\n",
    "        ymin, xmin, ymax, xmax = obj['bounding_box']\n",
    "        xmin = int(xmin * CAMERA_WIDTH)\n",
    "        xmax = int(xmax * CAMERA_WIDTH)\n",
    "        ymin = int(ymin * CAMERA_HEIGHT)\n",
    "        ymax = int(ymax * CAMERA_HEIGHT)\n",
    "\n",
    "        # Overlay the box, label, and score on the camera preview\n",
    "        annotator.bounding_box([xmin, ymin, xmax, ymax])\n",
    "        annotator.text([xmin, ymin],\n",
    "                       '%s\\n%.2f' % (labels[obj['class_id']], obj['score']))\n"
   ]
  },
  {
   "cell_type": "code",
   "execution_count": 2,
   "metadata": {},
   "outputs": [
    {
     "name": "stdout",
     "output_type": "stream",
     "text": [
      "Collecting tflite-runtime==2.1.0.post1\n",
      "  Downloading https://dl.google.com/coral/python/tflite_runtime-2.1.0.post1-cp37-cp37m-macosx_10_14_x86_64.whl (1.2 MB)\n",
      "\u001b[K     |████████████████████████████████| 1.2 MB 1.1 MB/s eta 0:00:01\n",
      "\u001b[?25hRequirement already satisfied: numpy>=1.12.1 in /Users/macico/.pyenv/versions/3.7.6/envs/py37b/lib/python3.7/site-packages (from tflite-runtime==2.1.0.post1) (1.19.5)\n",
      "Installing collected packages: tflite-runtime\n",
      "Successfully installed tflite-runtime-2.1.0.post1\n",
      "\u001b[33mWARNING: You are using pip version 20.0.2; however, version 21.1.2 is available.\n",
      "You should consider upgrading via the '/Users/macico/.pyenv/versions/3.7.6/envs/py37b/bin/python3.7 -m pip install --upgrade pip' command.\u001b[0m\n"
     ]
    }
   ],
   "source": [
    "!pip3 install https://dl.google.com/coral/python/tflite_runtime-2.1.0.post1-cp37-cp37m-macosx_10_14_x86_64.whl"
   ]
  },
  {
   "cell_type": "code",
   "execution_count": 7,
   "metadata": {},
   "outputs": [],
   "source": [
    "parser = argparse.ArgumentParser(\n",
    "  formatter_class=argparse.ArgumentDefaultsHelpFormatter)\n",
    "parser.add_argument(\n",
    "  '--model', help='File path of .tflite file.', required=True)\n",
    "parser.add_argument(\n",
    "  '--labels', help='File path of labels file.', required=True)\n",
    "parser.add_argument(\n",
    "  '--threshold',\n",
    "  help='Score threshold for detected objects.',\n",
    "  required=False,\n",
    "  type=float,\n",
    "  default=0.4)\n",
    "args = parser.parse_args([\"--model\",\"detect.tflite\",\"--labels\",\"coco_labels.txt\"])"
   ]
  },
  {
   "cell_type": "code",
   "execution_count": 8,
   "metadata": {},
   "outputs": [],
   "source": [
    "camera=None\n",
    "# annotator = Annotator(camera)\n",
    "\n",
    "labels = load_labels(args.labels)\n",
    "interpreter = Interpreter(args.model)\n",
    "interpreter.allocate_tensors()\n",
    "_, input_height, input_width, _ = interpreter.get_input_details()[0]['shape']\n",
    "#\n",
    "image = cv2.resize(frame, (input_width, input_height))\n",
    "start_time = time.monotonic()\n",
    "results = detect_objects(interpreter, image, args.threshold)\n",
    "elapsed_ms = (time.monotonic() - start_time) * 1000\n",
    "\n",
    "# annotator.clear()\n",
    "# annotate_objects(annotator, results, labels)\n",
    "# annotator.text([5, 0], '%.1fms' % (elapsed_ms))\n",
    "# annotator.update()\n",
    "\n",
    "# stream.seek(0)\n",
    "# stream.truncate()"
   ]
  },
  {
   "cell_type": "code",
   "execution_count": 9,
   "metadata": {},
   "outputs": [
    {
     "data": {
      "text/plain": [
       "array([[[240, 236, 241],\n",
       "        [243, 238, 244],\n",
       "        [240, 236, 241],\n",
       "        ...,\n",
       "        [ 45,  49,  55],\n",
       "        [ 41,  46,  52],\n",
       "        [ 42,  47,  53]],\n",
       "\n",
       "       [[240, 236, 241],\n",
       "        [239, 235, 240],\n",
       "        [240, 236, 241],\n",
       "        ...,\n",
       "        [ 40,  45,  50],\n",
       "        [ 42,  47,  53],\n",
       "        [ 46,  51,  57]],\n",
       "\n",
       "       [[237, 232, 237],\n",
       "        [236, 231, 236],\n",
       "        [240, 235, 240],\n",
       "        ...,\n",
       "        [ 40,  45,  51],\n",
       "        [ 39,  43,  49],\n",
       "        [ 46,  51,  57]],\n",
       "\n",
       "       ...,\n",
       "\n",
       "       [[111, 111, 114],\n",
       "        [109, 108, 110],\n",
       "        [106, 104, 107],\n",
       "        ...,\n",
       "        [ 70,  75,  80],\n",
       "        [ 76,  82,  84],\n",
       "        [ 79,  84,  88]],\n",
       "\n",
       "       [[110, 110, 112],\n",
       "        [107, 106, 108],\n",
       "        [104, 102, 107],\n",
       "        ...,\n",
       "        [ 77,  82,  87],\n",
       "        [ 71,  77,  80],\n",
       "        [ 79,  84,  88]],\n",
       "\n",
       "       [[ 97,  97,  99],\n",
       "        [106, 105, 107],\n",
       "        [105, 104, 108],\n",
       "        ...,\n",
       "        [ 78,  83,  89],\n",
       "        [ 82,  87,  91],\n",
       "        [ 78,  84,  87]]], dtype=uint8)"
      ]
     },
     "execution_count": 9,
     "metadata": {},
     "output_type": "execute_result"
    }
   ],
   "source": [
    "image"
   ]
  },
  {
   "cell_type": "code",
   "execution_count": 19,
   "metadata": {},
   "outputs": [
    {
     "data": {
      "text/plain": [
       "[{'bounding_box': array([0.31420186, 0.07828394, 0.98990417, 0.7756872 ], dtype=float32),\n",
       "  'class_id': 0.0,\n",
       "  'score': 0.55078125},\n",
       " {'bounding_box': array([0.282165  , 0.24696724, 1.0033102 , 0.66265875], dtype=float32),\n",
       "  'class_id': 16.0,\n",
       "  'score': 0.5390625}]"
      ]
     },
     "execution_count": 19,
     "metadata": {},
     "output_type": "execute_result"
    }
   ],
   "source": [
    "results"
   ]
  },
  {
   "cell_type": "code",
   "execution_count": 17,
   "metadata": {},
   "outputs": [
    {
     "ename": "NameError",
     "evalue": "name 'Annotator' is not defined",
     "output_type": "error",
     "traceback": [
      "\u001b[0;31m---------------------------------------------------------------------------\u001b[0m",
      "\u001b[0;31mNameError\u001b[0m                                 Traceback (most recent call last)",
      "\u001b[0;32m<ipython-input-17-4455fdaa3fd8>\u001b[0m in \u001b[0;36m<module>\u001b[0;34m\u001b[0m\n\u001b[0;32m----> 1\u001b[0;31m \u001b[0mAnnotator\u001b[0m\u001b[0;34m(\u001b[0m\u001b[0mcamera\u001b[0m\u001b[0;34m)\u001b[0m\u001b[0;34m\u001b[0m\u001b[0;34m\u001b[0m\u001b[0m\n\u001b[0m",
      "\u001b[0;31mNameError\u001b[0m: name 'Annotator' is not defined"
     ]
    }
   ],
   "source": [
    "\n",
    "\n",
    "def main():\n",
    "    parser = argparse.ArgumentParser(\n",
    "      formatter_class=argparse.ArgumentDefaultsHelpFormatter)\n",
    "    parser.add_argument(\n",
    "      '--model', help='File path of .tflite file.', required=True)\n",
    "    parser.add_argument(\n",
    "      '--labels', help='File path of labels file.', required=True)\n",
    "    parser.add_argument(\n",
    "      '--threshold',\n",
    "      help='Score threshold for detected objects.',\n",
    "      required=False,\n",
    "      type=float,\n",
    "      default=0.4)\n",
    "    args = parser.parse_args()\n",
    "\n",
    "    labels = load_labels(args.labels)\n",
    "    interpreter = Interpreter(args.model)\n",
    "    interpreter.allocate_tensors()\n",
    "    _, input_height, input_width, _ = interpreter.get_input_details()[0]['shape']\n",
    "    #\n",
    "    image = cv2.resize(frame, (input_width, input_height))\n",
    "    start_time = time.monotonic()\n",
    "    results = detect_objects(interpreter, image, args.threshold)\n",
    "    elapsed_ms = (time.monotonic() - start_time) * 1000\n",
    "\n",
    "    annotator.clear()\n",
    "    annotate_objects(annotator, results, labels)\n",
    "    annotator.text([5, 0], '%.1fms' % (elapsed_ms))\n",
    "    annotator.update()\n",
    "\n",
    "    stream.seek(0)\n",
    "    stream.truncate()\n",
    "    \"\"\"\n",
    "    with picamera.PiCamera(\n",
    "        resolution=(CAMERA_WIDTH, CAMERA_HEIGHT), framerate=30) as camera:\n",
    "        camera.start_preview()\n",
    "    try:\n",
    "        stream = io.BytesIO()\n",
    "        annotator = Annotator(camera)\n",
    "        for _ in camera.capture_continuous(\n",
    "            stream, format='jpeg', use_video_port=True):\n",
    "            stream.seek(0)\n",
    "        image = Image.open(stream).convert('RGB').resize(\n",
    "            (input_width, input_height), Image.ANTIALIAS)\n",
    "        start_time = time.monotonic()\n",
    "        results = detect_objects(interpreter, image, args.threshold)\n",
    "        elapsed_ms = (time.monotonic() - start_time) * 1000\n",
    "\n",
    "        annotator.clear()\n",
    "        annotate_objects(annotator, results, labels)\n",
    "        annotator.text([5, 0], '%.1fms' % (elapsed_ms))\n",
    "        annotator.update()\n",
    "\n",
    "        stream.seek(0)\n",
    "        stream.truncate()\n",
    "\n",
    "    finally:\n",
    "        camera.stop_preview()\n",
    "        \n",
    "    \"\"\"\n",
    "    cam = cv2.VideoCapture(0)\n",
    "    ret, img = cam.read()\n",
    "\n",
    "\n",
    "if __name__ == '__main__':\n",
    "    main()"
   ]
  },
  {
   "cell_type": "code",
   "execution_count": null,
   "metadata": {},
   "outputs": [],
   "source": []
  }
 ],
 "metadata": {
  "kernelspec": {
   "display_name": "Python 3",
   "language": "python",
   "name": "python3"
  },
  "language_info": {
   "codemirror_mode": {
    "name": "ipython",
    "version": 3
   },
   "file_extension": ".py",
   "mimetype": "text/x-python",
   "name": "python",
   "nbconvert_exporter": "python",
   "pygments_lexer": "ipython3",
   "version": "3.7.6"
  }
 },
 "nbformat": 4,
 "nbformat_minor": 4
}
