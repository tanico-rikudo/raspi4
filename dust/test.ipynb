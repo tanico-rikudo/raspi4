{
 "cells": [
  {
   "cell_type": "code",
   "execution_count": null,
   "metadata": {
    "scrolled": true
   },
   "outputs": [],
   "source": [
    "#!/usr/bin/env python\n",
    "# -*- coding: utf-8 -*-\n",
    "\n",
    "import RPi.GPIO as GPIO\n",
    "import time\n",
    "from datetime import datetime  as dt\n",
    "import logging\n",
    "import json\n",
    "\n",
    "import sys\n",
    "\n",
    "\n",
    "from particle_counter import ParticleCounter\n",
    "# Make instance\n",
    "device001 = ParticleCounter(30)\n",
    "\n",
    "# Set signal pin\n",
    "device001.set_pin_number(PIN=14)\n",
    "\n",
    "# Excute\n",
    "device001.particle_count(count_times=1000000)\n",
    "\n",
    "# Finish\n",
    "GPIO.cleanup()\n",
    "print('==== Done ====')"
   ]
  },
  {
   "cell_type": "code",
   "execution_count": null,
   "metadata": {},
   "outputs": [],
   "source": []
  }
 ],
 "metadata": {
  "kernelspec": {
   "display_name": "Python 3",
   "language": "python",
   "name": "python3"
  },
  "language_info": {
   "codemirror_mode": {
    "name": "ipython",
    "version": 3
   },
   "file_extension": ".py",
   "mimetype": "text/x-python",
   "name": "python",
   "nbconvert_exporter": "python",
   "pygments_lexer": "ipython3",
   "version": "3.6.6"
  }
 },
 "nbformat": 4,
 "nbformat_minor": 2
}
