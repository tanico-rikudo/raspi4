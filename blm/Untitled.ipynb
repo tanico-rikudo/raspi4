{
 "cells": [
  {
   "cell_type": "code",
   "execution_count": 8,
   "metadata": {},
   "outputs": [
    {
     "name": "stdout",
     "output_type": "stream",
     "text": [
      "Fetching package metadata .......\n",
      "Solving package specifications: .\n",
      "\n",
      "Package plan for installation in environment /home/tanico/berryconda3/envs/tanico:\n",
      "\n",
      "The following NEW packages will be INSTALLED:\n",
      "\n",
      "    pigpio: 1.44-py36_0 cbetters\n",
      "\n"
     ]
    }
   ],
   "source": [
    "!conda install -c cbetters pigpio -y"
   ]
  },
  {
   "cell_type": "code",
   "execution_count": 16,
   "metadata": {},
   "outputs": [
    {
     "name": "stdout",
     "output_type": "stream",
     "text": [
      "For first time launch, select calibrate\n",
      "Type the exact word for the function you want\n",
      "calibrate OR manual OR control OR arm OR stop\n"
     ]
    },
    {
     "name": "stdin",
     "output_type": "stream",
     "text": [
      " calibrate\n"
     ]
    },
    {
     "name": "stdout",
     "output_type": "stream",
     "text": [
      "Disconnect the battery and press Enter\n"
     ]
    },
    {
     "name": "stdin",
     "output_type": "stream",
     "text": [
      " \n"
     ]
    },
    {
     "name": "stdout",
     "output_type": "stream",
     "text": [
      "Connect the battery NOW.. you will here two beeps, then wait for a gradual falling tone then press Enter\n"
     ]
    },
    {
     "name": "stdin",
     "output_type": "stream",
     "text": [
      " \n"
     ]
    },
    {
     "name": "stdout",
     "output_type": "stream",
     "text": [
      "Wierd eh! Special tone\n",
      "Wait for it ....\n",
      "Im working on it, DONT WORRY JUST WAIT.....\n",
      "Arming ESC now...\n",
      "See.... uhhhhh\n",
      "I'm Starting the motor, I hope its calibrated and armed, if not restart by giving 'x'\n",
      "Controls - a to decrease speed & d to increase speed OR q to decrease a lot of speed & e to increase a lot of speed\n"
     ]
    },
    {
     "ename": "KeyboardInterrupt",
     "evalue": "",
     "output_type": "error",
     "traceback": [
      "\u001b[0;31m---------------------------------------------------------------------------\u001b[0m",
      "\u001b[0;31mKeyboardInterrupt\u001b[0m                         Traceback (most recent call last)",
      "\u001b[0;32m~/berryconda3/envs/tanico/lib/python3.6/site-packages/ipykernel/kernelbase.py\u001b[0m in \u001b[0;36m_input_request\u001b[0;34m(self, prompt, ident, parent, password)\u001b[0m\n\u001b[1;32m    728\u001b[0m             \u001b[0;32mtry\u001b[0m\u001b[0;34m:\u001b[0m\u001b[0;34m\u001b[0m\u001b[0m\n\u001b[0;32m--> 729\u001b[0;31m                 \u001b[0mident\u001b[0m\u001b[0;34m,\u001b[0m \u001b[0mreply\u001b[0m \u001b[0;34m=\u001b[0m \u001b[0mself\u001b[0m\u001b[0;34m.\u001b[0m\u001b[0msession\u001b[0m\u001b[0;34m.\u001b[0m\u001b[0mrecv\u001b[0m\u001b[0;34m(\u001b[0m\u001b[0mself\u001b[0m\u001b[0;34m.\u001b[0m\u001b[0mstdin_socket\u001b[0m\u001b[0;34m,\u001b[0m \u001b[0;36m0\u001b[0m\u001b[0;34m)\u001b[0m\u001b[0;34m\u001b[0m\u001b[0m\n\u001b[0m\u001b[1;32m    730\u001b[0m             \u001b[0;32mexcept\u001b[0m \u001b[0mException\u001b[0m\u001b[0;34m:\u001b[0m\u001b[0;34m\u001b[0m\u001b[0m\n",
      "\u001b[0;32m~/berryconda3/envs/tanico/lib/python3.6/site-packages/jupyter_client/session.py\u001b[0m in \u001b[0;36mrecv\u001b[0;34m(self, socket, mode, content, copy)\u001b[0m\n\u001b[1;32m    802\u001b[0m         \u001b[0;32mtry\u001b[0m\u001b[0;34m:\u001b[0m\u001b[0;34m\u001b[0m\u001b[0m\n\u001b[0;32m--> 803\u001b[0;31m             \u001b[0mmsg_list\u001b[0m \u001b[0;34m=\u001b[0m \u001b[0msocket\u001b[0m\u001b[0;34m.\u001b[0m\u001b[0mrecv_multipart\u001b[0m\u001b[0;34m(\u001b[0m\u001b[0mmode\u001b[0m\u001b[0;34m,\u001b[0m \u001b[0mcopy\u001b[0m\u001b[0;34m=\u001b[0m\u001b[0mcopy\u001b[0m\u001b[0;34m)\u001b[0m\u001b[0;34m\u001b[0m\u001b[0m\n\u001b[0m\u001b[1;32m    804\u001b[0m         \u001b[0;32mexcept\u001b[0m \u001b[0mzmq\u001b[0m\u001b[0;34m.\u001b[0m\u001b[0mZMQError\u001b[0m \u001b[0;32mas\u001b[0m \u001b[0me\u001b[0m\u001b[0;34m:\u001b[0m\u001b[0;34m\u001b[0m\u001b[0m\n",
      "\u001b[0;32m~/berryconda3/envs/tanico/lib/python3.6/site-packages/zmq/sugar/socket.py\u001b[0m in \u001b[0;36mrecv_multipart\u001b[0;34m(self, flags, copy, track)\u001b[0m\n\u001b[1;32m    466\u001b[0m         \"\"\"\n\u001b[0;32m--> 467\u001b[0;31m         \u001b[0mparts\u001b[0m \u001b[0;34m=\u001b[0m \u001b[0;34m[\u001b[0m\u001b[0mself\u001b[0m\u001b[0;34m.\u001b[0m\u001b[0mrecv\u001b[0m\u001b[0;34m(\u001b[0m\u001b[0mflags\u001b[0m\u001b[0;34m,\u001b[0m \u001b[0mcopy\u001b[0m\u001b[0;34m=\u001b[0m\u001b[0mcopy\u001b[0m\u001b[0;34m,\u001b[0m \u001b[0mtrack\u001b[0m\u001b[0;34m=\u001b[0m\u001b[0mtrack\u001b[0m\u001b[0;34m)\u001b[0m\u001b[0;34m]\u001b[0m\u001b[0;34m\u001b[0m\u001b[0m\n\u001b[0m\u001b[1;32m    468\u001b[0m         \u001b[0;31m# have first part already, only loop while more to receive\u001b[0m\u001b[0;34m\u001b[0m\u001b[0;34m\u001b[0m\u001b[0m\n",
      "\u001b[0;32mzmq/backend/cython/socket.pyx\u001b[0m in \u001b[0;36mzmq.backend.cython.socket.Socket.recv\u001b[0;34m()\u001b[0m\n",
      "\u001b[0;32mzmq/backend/cython/socket.pyx\u001b[0m in \u001b[0;36mzmq.backend.cython.socket.Socket.recv\u001b[0;34m()\u001b[0m\n",
      "\u001b[0;32mzmq/backend/cython/socket.pyx\u001b[0m in \u001b[0;36mzmq.backend.cython.socket._recv_copy\u001b[0;34m()\u001b[0m\n",
      "\u001b[0;32m~/berryconda3/envs/tanico/lib/python3.6/site-packages/zmq/backend/cython/checkrc.pxd\u001b[0m in \u001b[0;36mzmq.backend.cython.checkrc._check_rc\u001b[0;34m()\u001b[0m\n",
      "\u001b[0;31mKeyboardInterrupt\u001b[0m: ",
      "\nDuring handling of the above exception, another exception occurred:\n",
      "\u001b[0;31mKeyboardInterrupt\u001b[0m                         Traceback (most recent call last)",
      "\u001b[0;32m<ipython-input-16-408faab4f52a>\u001b[0m in \u001b[0;36m<module>\u001b[0;34m()\u001b[0m\n\u001b[1;32m    114\u001b[0m         \u001b[0mmanual_drive\u001b[0m\u001b[0;34m(\u001b[0m\u001b[0;34m)\u001b[0m\u001b[0;34m\u001b[0m\u001b[0m\n\u001b[1;32m    115\u001b[0m \u001b[0;32melif\u001b[0m \u001b[0minp\u001b[0m \u001b[0;34m==\u001b[0m \u001b[0;34m\"calibrate\"\u001b[0m\u001b[0;34m:\u001b[0m\u001b[0;34m\u001b[0m\u001b[0m\n\u001b[0;32m--> 116\u001b[0;31m         \u001b[0mcalibrate\u001b[0m\u001b[0;34m(\u001b[0m\u001b[0;34m)\u001b[0m\u001b[0;34m\u001b[0m\u001b[0m\n\u001b[0m\u001b[1;32m    117\u001b[0m \u001b[0;32melif\u001b[0m \u001b[0minp\u001b[0m \u001b[0;34m==\u001b[0m \u001b[0;34m\"arm\"\u001b[0m\u001b[0;34m:\u001b[0m\u001b[0;34m\u001b[0m\u001b[0m\n\u001b[1;32m    118\u001b[0m         \u001b[0marm\u001b[0m\u001b[0;34m(\u001b[0m\u001b[0;34m)\u001b[0m\u001b[0;34m\u001b[0m\u001b[0m\n",
      "\u001b[0;32m<ipython-input-16-408faab4f52a>\u001b[0m in \u001b[0;36mcalibrate\u001b[0;34m()\u001b[0m\n\u001b[1;32m     58\u001b[0m                         \u001b[0mtime\u001b[0m\u001b[0;34m.\u001b[0m\u001b[0msleep\u001b[0m\u001b[0;34m(\u001b[0m\u001b[0;36m10\u001b[0m\u001b[0;34m)\u001b[0m\u001b[0;34m\u001b[0m\u001b[0m\n\u001b[1;32m     59\u001b[0m                         \u001b[0mprint\u001b[0m\u001b[0;34m(\u001b[0m \u001b[0;34m\"See.... uhhhhh\"\u001b[0m\u001b[0;34m)\u001b[0m\u001b[0;34m\u001b[0m\u001b[0m\n\u001b[0;32m---> 60\u001b[0;31m                         \u001b[0mcontrol\u001b[0m\u001b[0;34m(\u001b[0m\u001b[0;34m)\u001b[0m \u001b[0;31m# You can change this to any other function you want\u001b[0m\u001b[0;34m\u001b[0m\u001b[0m\n\u001b[0m\u001b[1;32m     61\u001b[0m \u001b[0;34m\u001b[0m\u001b[0m\n\u001b[1;32m     62\u001b[0m \u001b[0;32mdef\u001b[0m \u001b[0mcontrol\u001b[0m\u001b[0;34m(\u001b[0m\u001b[0;34m)\u001b[0m\u001b[0;34m:\u001b[0m\u001b[0;34m\u001b[0m\u001b[0m\n",
      "\u001b[0;32m<ipython-input-16-408faab4f52a>\u001b[0m in \u001b[0;36mcontrol\u001b[0;34m()\u001b[0m\n\u001b[1;32m     67\u001b[0m         \u001b[0;32mwhile\u001b[0m \u001b[0;32mTrue\u001b[0m\u001b[0;34m:\u001b[0m\u001b[0;34m\u001b[0m\u001b[0m\n\u001b[1;32m     68\u001b[0m                 \u001b[0mpi\u001b[0m\u001b[0;34m.\u001b[0m\u001b[0mset_servo_pulsewidth\u001b[0m\u001b[0;34m(\u001b[0m\u001b[0mESC\u001b[0m\u001b[0;34m,\u001b[0m \u001b[0mspeed\u001b[0m\u001b[0;34m)\u001b[0m\u001b[0;34m\u001b[0m\u001b[0m\n\u001b[0;32m---> 69\u001b[0;31m                 \u001b[0minp\u001b[0m \u001b[0;34m=\u001b[0m \u001b[0minput\u001b[0m\u001b[0;34m(\u001b[0m\u001b[0;34m)\u001b[0m\u001b[0;34m\u001b[0m\u001b[0m\n\u001b[0m\u001b[1;32m     70\u001b[0m \u001b[0;34m\u001b[0m\u001b[0m\n\u001b[1;32m     71\u001b[0m                 \u001b[0;32mif\u001b[0m \u001b[0minp\u001b[0m \u001b[0;34m==\u001b[0m \u001b[0;34m\"q\"\u001b[0m\u001b[0;34m:\u001b[0m\u001b[0;34m\u001b[0m\u001b[0m\n",
      "\u001b[0;32m~/berryconda3/envs/tanico/lib/python3.6/site-packages/ipykernel/kernelbase.py\u001b[0m in \u001b[0;36mraw_input\u001b[0;34m(self, prompt)\u001b[0m\n\u001b[1;32m    702\u001b[0m             \u001b[0mself\u001b[0m\u001b[0;34m.\u001b[0m\u001b[0m_parent_ident\u001b[0m\u001b[0;34m,\u001b[0m\u001b[0;34m\u001b[0m\u001b[0m\n\u001b[1;32m    703\u001b[0m             \u001b[0mself\u001b[0m\u001b[0;34m.\u001b[0m\u001b[0m_parent_header\u001b[0m\u001b[0;34m,\u001b[0m\u001b[0;34m\u001b[0m\u001b[0m\n\u001b[0;32m--> 704\u001b[0;31m             \u001b[0mpassword\u001b[0m\u001b[0;34m=\u001b[0m\u001b[0;32mFalse\u001b[0m\u001b[0;34m,\u001b[0m\u001b[0;34m\u001b[0m\u001b[0m\n\u001b[0m\u001b[1;32m    705\u001b[0m         )\n\u001b[1;32m    706\u001b[0m \u001b[0;34m\u001b[0m\u001b[0m\n",
      "\u001b[0;32m~/berryconda3/envs/tanico/lib/python3.6/site-packages/ipykernel/kernelbase.py\u001b[0m in \u001b[0;36m_input_request\u001b[0;34m(self, prompt, ident, parent, password)\u001b[0m\n\u001b[1;32m    732\u001b[0m             \u001b[0;32mexcept\u001b[0m \u001b[0mKeyboardInterrupt\u001b[0m\u001b[0;34m:\u001b[0m\u001b[0;34m\u001b[0m\u001b[0m\n\u001b[1;32m    733\u001b[0m                 \u001b[0;31m# re-raise KeyboardInterrupt, to truncate traceback\u001b[0m\u001b[0;34m\u001b[0m\u001b[0;34m\u001b[0m\u001b[0m\n\u001b[0;32m--> 734\u001b[0;31m                 \u001b[0;32mraise\u001b[0m \u001b[0mKeyboardInterrupt\u001b[0m\u001b[0;34m\u001b[0m\u001b[0m\n\u001b[0m\u001b[1;32m    735\u001b[0m             \u001b[0;32melse\u001b[0m\u001b[0;34m:\u001b[0m\u001b[0;34m\u001b[0m\u001b[0m\n\u001b[1;32m    736\u001b[0m                 \u001b[0;32mbreak\u001b[0m\u001b[0;34m\u001b[0m\u001b[0m\n",
      "\u001b[0;31mKeyboardInterrupt\u001b[0m: "
     ]
    }
   ],
   "source": [
    "# Make sure your battery is not connected if you are going to calibrate it at first.\n",
    "import os     #importing os library so as to communicate with the system\n",
    "import time   #importing time library to make Rpi wait because its too impatient \n",
    "time.sleep(1) # As i said it is too impatient and so if this delay is removed you will get an error\n",
    "import pigpio #importing GPIO library\n",
    "\n",
    "ESC=14  #Connect the ESC in this GPIO pin \n",
    "\n",
    "pi = pigpio.pi();\n",
    "pi.set_servo_pulsewidth(ESC, 0) \n",
    "\n",
    "max_value = 2000 #change this if your ESC's max value is different or leave it be\n",
    "min_value = 700  #change this if your ESC's min value is different or leave it be\n",
    "print(\"For first time launch, select calibrate\")\n",
    "print( \"Type the exact word for the function you want\")\n",
    "print (\"calibrate OR manual OR control OR arm OR stop\")\n",
    "\n",
    "def manual_drive(): #You will use this function to program your ESC if required\n",
    "\tprint (\"You have selected manual option so give a value between 0 and you max value\"    )\n",
    "\twhile True:\n",
    "\t\tinp = input()\n",
    "\t\tif inp == \"stop\":\n",
    "\t\t\tstop()\n",
    "\t\t\tbreak\n",
    "\t\telif inp == \"control\":\n",
    "\t\t\tcontrol()\n",
    "\t\t\tbreak\n",
    "\t\telif inp == \"arm\":\n",
    "\t\t\tarm()\n",
    "\t\t\tbreak\t\n",
    "\t\telse:\n",
    "\t\t\tpi.set_servo_pulsewidth(ESC,inp)\n",
    "\t\t\t\t\n",
    "def calibrate():   #This is the auto calibration procedure of a normal ESC\n",
    "\tpi.set_servo_pulsewidth(ESC, 0)\n",
    "\tprint(\"Disconnect the battery and press Enter\")\n",
    "\tinp = input()\n",
    "\tif inp == '':\n",
    "\t\tpi.set_servo_pulsewidth(ESC, max_value)\n",
    "\t\tprint(\"Connect the battery NOW.. you will here two beeps, then wait for a gradual falling tone then press Enter\")\n",
    "\t\tinp = input()\n",
    "\t\tif inp == '':            \n",
    "\t\t\tpi.set_servo_pulsewidth(ESC, min_value)\n",
    "\t\t\tprint( \"Wierd eh! Special tone\")\n",
    "\t\t\ttime.sleep(10)\n",
    "\t\t\tprint (\"Wait for it ....\")\n",
    "\t\t\ttime.sleep (5)\n",
    "\t\t\tprint (\"Im working on it, DONT WORRY JUST WAIT.....\")\n",
    "\t\t\tpi.set_servo_pulsewidth(ESC, 0)\n",
    "\t\t\ttime.sleep(10)\n",
    "\t\t\tprint (\"Arming ESC now...\")\n",
    "\t\t\tpi.set_servo_pulsewidth(ESC, min_value)\n",
    "\t\t\ttime.sleep(10)\n",
    "\t\t\tprint( \"See.... uhhhhh\")\n",
    "\t\t\tcontrol() # You can change this to any other function you want\n",
    "\t\t\t\n",
    "def control(): \n",
    "\tprint (\"I'm Starting the motor, I hope its calibrated and armed, if not restart by giving 'x'\")\n",
    "\ttime.sleep(1)\n",
    "\tspeed = 1500    # change your speed if you want to.... it should be between 700 - 2000\n",
    "\tprint( \"Controls - a to decrease speed & d to increase speed OR q to decrease a lot of speed & e to increase a lot of speed\")\n",
    "\twhile True:\n",
    "\t\tpi.set_servo_pulsewidth(ESC, speed)\n",
    "\t\tinp = input()\n",
    "\t\t\n",
    "\t\tif inp == \"q\":\n",
    "\t\t\tspeed -= 100    # decrementing the speed like hell\n",
    "\t\t\tprint (\"speed = %d\" % speed)\n",
    "\t\telif inp == \"e\":    \n",
    "\t\t\tspeed += 100    # incrementing the speed like hell\n",
    "\t\t\tprint (\"speed = %d\" % speed)\n",
    "\t\telif inp == \"d\":\n",
    "\t\t\tspeed += 10     # incrementing the speed \n",
    "\t\t\tprint (\"speed = %d\" % speed)\n",
    "\t\telif inp == \"a\":\n",
    "\t\t\tspeed -= 10     # decrementing the speed\n",
    "\t\t\tprint( \"speed = %d\" % speed)\n",
    "\t\telif inp == \"stop\":\n",
    "\t\t\tstop()          #going for the stop function\n",
    "\t\t\tbreak\n",
    "\t\telif inp == \"manual\":\n",
    "\t\t\tmanual_drive()\n",
    "\t\t\tbreak\n",
    "\t\telif inp == \"arm\":\n",
    "\t\t\tarm()\n",
    "\t\t\tbreak\t\n",
    "\t\telse:\n",
    "\t\t\tprint( \"WHAT DID I SAID!! Press a,q,d or e\")\n",
    "\t\t\t\n",
    "def arm(): #This is the arming procedure of an ESC \n",
    "\tprint( \"Connect the battery and press Enter\")\n",
    "\tinp = input()    \n",
    "\tif inp == '':\n",
    "\t\tpi.set_servo_pulsewidth(ESC, 0)\n",
    "\t\ttime.sleep(1)\n",
    "\t\tpi.set_servo_pulsewidth(ESC, max_value)\n",
    "\t\ttime.sleep(1)\n",
    "\t\tpi.set_servo_pulsewidth(ESC, min_value)\n",
    "\t\ttime.sleep(1)\n",
    "\t\tcontrol() \n",
    "\t\t\n",
    "def stop(): #This will stop every action your Pi is performing for ESC ofcourse.\n",
    "\tpi.set_servo_pulsewidth(ESC, 0)\n",
    "\tpi.stop()\n",
    "\n",
    "#This is the start of the program actually, to start the function it needs to be initialized before calling... stupid python.    \n",
    "inp = input()\n",
    "if inp == \"manual\":\n",
    "\tmanual_drive()\n",
    "elif inp == \"calibrate\":\n",
    "\tcalibrate()\n",
    "elif inp == \"arm\":\n",
    "\tarm()\n",
    "elif inp == \"control\":\n",
    "\tcontrol()\n",
    "elif inp == \"stop\":\n",
    "\tstop()\n",
    "else :\n",
    "\tprint( \"Thank You for not following the things I'm saying... now you gotta restart the program STUPID!!\")\n"
   ]
  }
 ],
 "metadata": {
  "kernelspec": {
   "display_name": "Python 3",
   "language": "python",
   "name": "python3"
  },
  "language_info": {
   "codemirror_mode": {
    "name": "ipython",
    "version": 3
   },
   "file_extension": ".py",
   "mimetype": "text/x-python",
   "name": "python",
   "nbconvert_exporter": "python",
   "pygments_lexer": "ipython3",
   "version": "3.6.6"
  }
 },
 "nbformat": 4,
 "nbformat_minor": 2
}
