{
 "cells": [
  {
   "cell_type": "code",
   "execution_count": 1,
   "metadata": {},
   "outputs": [
    {
     "ename": "ModuleNotFoundError",
     "evalue": "No module named 'pigpio'",
     "output_type": "error",
     "traceback": [
      "\u001b[0;31m---------------------------------------------------------------------------\u001b[0m",
      "\u001b[0;31mModuleNotFoundError\u001b[0m                       Traceback (most recent call last)",
      "\u001b[0;32m<ipython-input-1-8f262cdcfc30>\u001b[0m in \u001b[0;36m<module>\u001b[0;34m()\u001b[0m\n\u001b[0;32m----> 1\u001b[0;31m \u001b[0;32mimport\u001b[0m \u001b[0mpigpio\u001b[0m\u001b[0;34m\u001b[0m\u001b[0m\n\u001b[0m\u001b[1;32m      2\u001b[0m \u001b[0;32mimport\u001b[0m \u001b[0mtime\u001b[0m\u001b[0;34m\u001b[0m\u001b[0m\n\u001b[1;32m      3\u001b[0m \u001b[0mmotor_pin\u001b[0m \u001b[0;34m=\u001b[0m \u001b[0;36m3\u001b[0m \u001b[0;31m#メモしたGPIO番号\u001b[0m\u001b[0;34m\u001b[0m\u001b[0m\n\u001b[1;32m      4\u001b[0m \u001b[0;34m\u001b[0m\u001b[0m\n\u001b[1;32m      5\u001b[0m \u001b[0mpi\u001b[0m \u001b[0;34m=\u001b[0m \u001b[0mpigpio\u001b[0m\u001b[0;34m.\u001b[0m\u001b[0mpi\u001b[0m\u001b[0;34m(\u001b[0m\u001b[0;34m)\u001b[0m\u001b[0;34m\u001b[0m\u001b[0m\n",
      "\u001b[0;31mModuleNotFoundError\u001b[0m: No module named 'pigpio'"
     ]
    }
   ],
   "source": [
    "import pigpio\n",
    "import time\n",
    "motor_pin = 3 #メモしたGPIO番号\n",
    "\n",
    "pi = pigpio.pi()\n",
    "\n",
    "for i in range(3):\n",
    "        pi.set_servo_pulsewidth(motor_pin, 1500) \n",
    "        time.sleep(1)\n",
    "        pi.set_servo_pulsewidth(motor_pin, 1600) \n",
    "        time.sleep(1)\n",
    "        pi.set_servo_pulsewidth(motor_pin, 1700) \n",
    "        time.sleep(1)\n",
    "        pi.set_servo_pulsewidth(motor_pin, 1800) \n",
    "        time.sleep(1)\n",
    "        pi.set_servo_pulsewidth(motor_pin, 1900) \n",
    "        time.sleep(1)\n",
    "        pi.set_servo_pulsewidth(motor_pin, 2000) \n",
    "        time.sleep(1)\n",
    "\n",
    "\n",
    "pi.set_servo_pulsewidth(motor_pin, 0) \n",
    "pi.stop()\n"
   ]
  },
  {
   "cell_type": "code",
   "execution_count": null,
   "metadata": {},
   "outputs": [],
   "source": [
    "!"
   ]
  }
 ],
 "metadata": {
  "kernelspec": {
   "display_name": "Python 3",
   "language": "python",
   "name": "python3"
  },
  "language_info": {
   "codemirror_mode": {
    "name": "ipython",
    "version": 3
   },
   "file_extension": ".py",
   "mimetype": "text/x-python",
   "name": "python",
   "nbconvert_exporter": "python",
   "pygments_lexer": "ipython3",
   "version": "3.6.6"
  }
 },
 "nbformat": 4,
 "nbformat_minor": 2
}
